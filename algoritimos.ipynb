{
  "cells": [
    {
      "metadata": {
        "trusted": true
      },
      "cell_type": "code",
      "source": "#esse é o dicionario aonde ira se armazenar os dados dos alunos por chave que sera o nome do aluno(a).\nalunos={}\n\n#esses são as lista a onde ira se armazenara idade de cada aluno(a) por talento .\nidade_desenha=[]\nidade_cantar=[]\nidade_tocar=[]\nidade_dançar=[]\nidade_esporte=[]\nidade_outros=[]\n\n#esses são somadores aonde ira somar todas as idade por talento.\nsomadesenhar=0\nsomacantar=0\nsomatocar=0\nsomadançar=0\nsomaesporte=0\nsomaoutros=0\n\n#esse ira calcular a media de idade de cada telento.\nmédiadesenhar=0\nmédiacantar=0\nmédiatocar=0\nmédiadançar=0\nmédiaesporte=0\nmédiaoutros=0\n\n#esse é um contador de quantos alunos (a) tem esse talento.\n\ndesenhar=0\ncantar=0\ntocar=0\ndançar=0\nesporte=0\noutros=0\ncont=0\n\n#variavel são como uma gaveta que irar guarda um dado seja letra ou um numero, mas pode-se expecificar que tipo de dado essa variavel ira recerber.\n#a variavel (sala) ira armazenar um numero inteiro, que irar servir para que o while (enquanto) execulte N vezes.\n\nsala=int(input(\"Quantidade de alunos que tem na sala/escola: \"))\n\n#\nwhile cont < sala:\n  cont+=1\n  idadeetalentos=[]\n  nome=input(\"Nome do aluno: \")\n  idade=int(input(\"Idade do aluno: \"))\n  talentos=input(\"Talento do aluno \\n (desenhar/cantar/tocar/dançar/esporte/outros): \")\n  alunos[nome]=idadeetalentos\n  idadeetalentos.append(idade)\n  idadeetalentos.append(talentos)\n  idadeetalentos=[]\n\n  if talentos == \"desenhar\":\n    desenhar+=1\n    idade_desenha.append(idade)\n    somadesenhar+=idade\n    médiadesenhar= somadesenhar/ len(idade_desenha)\n    \n  if talentos == \"cantar\":\n    cantar+=1\n    idade_cantar.append(idade)\n    somacantar+=idade\n    médiacantar= somacantar/ len(idade_cantar)\n    \n  if talentos == \"tocar\":\n    tocar+=1\n    idade_tocar.append(idade)\n    somatocar+=idade\n    médiatocar= somatocar/ len(idade_tocar)\n    \n  if talentos == \"dançar\":\n    dançar+=1\n    idade_dançar.append(idade)\n    somadançar+=idade\n    médiadançar= somadançar/ len(idade_dançar)\n    \n  if talentos == \"esporte\":\n    esporte+=1\n    idade_esporte.append(idade)\n    somaesporte+=idade\n    médiaesporte= somaesporte/ len(idade_esporte)\n    \n  if talentos == \"outros\":\n    outros+=1\n    idade_outros.append(idade)\n    somaoutros+=idade\n    médiaoutros= somaoutros/ len(idade_outros)\n    \n    \n#//////////////////////////////////////////#  \nimport numpy as np\nimport matplotlib.pyplot as plt\n\ntalentos=[\"desenhar\",\"cantar\",\"tocar\",\"dançar\",\"esporte\",\"outros\"]\nmedia=(médiadesenhar,médiacantar,médiatocar,médiadançar,médiaesporte,médiaoutros)\n\nplt.bar(talentos, media, color=\"blue\")\n\nplt.xticks(talentos)\n\nplt.ylabel(\"media de idades\")\n\nplt.title('talentos e medias por idades da sala')\n\nplt.show()\n#//////////////////////////////////////////#\n\n#//////////////////////////////////////////#\nimport pandas as pd  \n\ndf=pd.DataFrame(data=alunos)\ndf\n#//////////////////////////////////////////#",
      "execution_count": null,
      "outputs": []
    },
    {
      "metadata": {
        "trusted": true
      },
      "cell_type": "code",
      "source": "",
      "execution_count": null,
      "outputs": []
    }
  ],
  "metadata": {
    "kernelspec": {
      "name": "python36",
      "display_name": "Python 3.6",
      "language": "python"
    }
  },
  "nbformat": 4,
  "nbformat_minor": 2
}