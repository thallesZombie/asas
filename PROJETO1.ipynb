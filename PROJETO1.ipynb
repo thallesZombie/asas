{
  "cells": [
    {
      "metadata": {},
      "cell_type": "markdown",
      "source": "# jovensTalentos"
    },
    {
      "metadata": {
        "trusted": true
      },
      "cell_type": "markdown",
      "source": "    Em tempos atuais temos um grande nível de exigência para que jovens que acaba o ensino médio tenha uma vida academia e esquecendo dos seus talentos como desenhar, cantar, tocar etc.. e através de algoritmos iremos em busca desses talentos."
    },
    {
      "metadata": {
        "trusted": true
      },
      "cell_type": "code",
      "source": "",
      "execution_count": null,
      "outputs": []
    }
  ],
  "metadata": {
    "kernelspec": {
      "name": "python36",
      "display_name": "Python 3.6",
      "language": "python"
    },
    "language_info": {
      "mimetype": "text/x-python",
      "nbconvert_exporter": "python",
      "name": "python",
      "pygments_lexer": "ipython3",
      "version": "3.6.6",
      "file_extension": ".py",
      "codemirror_mode": {
        "version": 3,
        "name": "ipython"
      }
    }
  },
  "nbformat": 4,
  "nbformat_minor": 2
}