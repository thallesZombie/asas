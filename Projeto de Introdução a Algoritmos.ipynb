{
  "cells": [
    {
      "metadata": {
        "collapsed": true
      },
      "cell_type": "markdown",
      "source": "#  Jovens Talentos"
    },
    {
      "metadata": {},
      "cell_type": "markdown",
      "source": "## Fase 1: Oficina de modelagem de problemas."
    },
    {
      "metadata": {},
      "cell_type": "markdown",
      "source": "Nos tempos atuais temos um grande nível de exigência para com os jovens estudantes, isso inclui os jovens do ensino médio.\nPorém nem todos os jovens se saem tão bem com as matérias lecionadas no ensino médio, e isso causa um certo desanimo e uma resistência maior em aprender, vimos também que a maioria desses jovens tem algum talento extra-disciplinar, como cantar, dançar, práticar algum esporte ou desenhar."
    },
    {
      "metadata": {},
      "cell_type": "markdown",
      "source": "## Fase 2: Fechamento do escopo do problema."
    },
    {
      "metadata": {},
      "cell_type": "markdown",
      "source": "Por meio de algoritmos iremos tentar resolver este problema.\nDurante meu ensino médio tive vários amigos com talentos diferentes e que acabaram desistindo ou continuavam e se saiam muito mal, porém eu via o que eles eram capazes de fazer em outras áreas e penso que acaba sendo um desperdício de talento.\n"
    },
    {
      "metadata": {},
      "cell_type": "markdown",
      "source": "## Fase 3: Identificando formas de solucionar o problema."
    },
    {
      "metadata": {},
      "cell_type": "markdown",
      "source": "Bem, penso que uma forma de solucionar este problema é identificar e registrar cada pessoa e seus talentos com o uso de dicionários e para que o entendimento seja maior por parte do usuário, mostrar os resultados em forma de gráfico ou até mesmo de tabelas."
    },
    {
      "metadata": {},
      "cell_type": "markdown",
      "source": "## Fase 4: Implementação."
    },
    {
      "metadata": {
        "trusted": true
      },
      "cell_type": "code",
      "source": "alunos= {} ",
      "execution_count": 1,
      "outputs": []
    },
    {
      "metadata": {},
      "cell_type": "markdown",
      "source": ""
    },
    {
      "metadata": {
        "trusted": true
      },
      "cell_type": "code",
      "source": "list_desenha=[]\nlist_cantar=[]\nlist_tocar=[]\nlist_dançar=[]\nlist_esporte=[]\nlist_outros=[]",
      "execution_count": null,
      "outputs": []
    },
    {
      "metadata": {
        "trusted": true
      },
      "cell_type": "code",
      "source": "",
      "execution_count": null,
      "outputs": []
    },
    {
      "metadata": {
        "trusted": true
      },
      "cell_type": "code",
      "source": "desenhar=0\ncantar=0\ntocar=0\ndançar=0\nesporte=0\noutros=0\ncont=0",
      "execution_count": null,
      "outputs": []
    },
    {
      "metadata": {
        "trusted": true
      },
      "cell_type": "code",
      "source": "",
      "execution_count": null,
      "outputs": []
    },
    {
      "metadata": {
        "trusted": true
      },
      "cell_type": "code",
      "source": "",
      "execution_count": null,
      "outputs": []
    }
  ],
  "metadata": {
    "kernelspec": {
      "name": "python36",
      "display_name": "Python 3.6",
      "language": "python"
    },
    "language_info": {
      "mimetype": "text/x-python",
      "nbconvert_exporter": "python",
      "name": "python",
      "pygments_lexer": "ipython3",
      "version": "3.6.6",
      "file_extension": ".py",
      "codemirror_mode": {
        "version": 3,
        "name": "ipython"
      }
    }
  },
  "nbformat": 4,
  "nbformat_minor": 2
}