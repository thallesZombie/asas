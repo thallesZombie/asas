{
  "cells": [
    {
      "metadata": {
        "collapsed": true
      },
      "cell_type": "markdown",
      "source": "#  Jovens Talentos"
    },
    {
      "metadata": {},
      "cell_type": "markdown",
      "source": "## Fase 1: Oficina de modelagem de problemas."
    },
    {
      "metadata": {},
      "cell_type": "markdown",
      "source": "Nos tempos atuais temos um grande nível de exigência para com os jovens estudantes, isso inclui os jovens do ensino médio.\nPorém nem todos os jovens se saem tão bem com as matérias lecionadas no ensino médio, e isso causa um certo desanimo e uma resistência maior em aprender, vimos também que a maioria desses jovens tem algum talento extra-disciplinar, como cantar, dançar, práticar algum esporte ou desenhar."
    },
    {
      "metadata": {},
      "cell_type": "markdown",
      "source": "## Fase 2: Fechamento do escopo do problema."
    },
    {
      "metadata": {},
      "cell_type": "markdown",
      "source": "Por meio de algoritmos iremos tentar resolver este problema.\nDurante meu ensino médio tive vários amigos com talentos diferentes e que acabaram desistindo ou continuavam e se saiam muito mal, porém eu via o que eles eram capazes de fazer em outras áreas e penso que acaba sendo um desperdício de talento.\n"
    },
    {
      "metadata": {},
      "cell_type": "markdown",
      "source": "## Fase 3: Identificando formas de solucionar o problema."
    },
    {
      "metadata": {},
      "cell_type": "markdown",
      "source": "Bem, penso que uma forma de solucionar este problema é identificar e registrar cada pessoa e seus talentos com o uso de dicionários e para que o entendimento seja maior por parte do usuário, mostrar os resultados em forma de gráfico ou até mesmo de tabelas."
    },
    {
      "metadata": {},
      "cell_type": "markdown",
      "source": "## Fase 4: Implementação."
    },
    {
      "metadata": {
        "trusted": true
      },
      "cell_type": "code",
      "source": "alunos={}",
      "execution_count": null,
      "outputs": []
    },
    {
      "metadata": {
        "trusted": true
      },
      "cell_type": "code",
      "source": "",
      "execution_count": null,
      "outputs": []
    },
    {
      "metadata": {
        "trusted": true
      },
      "cell_type": "code",
      "source": "idade_desenha=[]\nidade_cantar=[]\nidade_tocar=[]\nidade_dançar=[]\nidade_esporte=[]\nidade_outros=[]",
      "execution_count": null,
      "outputs": []
    },
    {
      "metadata": {
        "trusted": true
      },
      "cell_type": "code",
      "source": "",
      "execution_count": null,
      "outputs": []
    },
    {
      "metadata": {
        "trusted": true
      },
      "cell_type": "code",
      "source": "somadesenhar=0\nsomacantar=0\nsomatocar=0\nsomadançar=0\nsomaesporte=0\nsomaoutros=0",
      "execution_count": null,
      "outputs": []
    },
    {
      "metadata": {
        "trusted": true
      },
      "cell_type": "code",
      "source": "",
      "execution_count": null,
      "outputs": []
    },
    {
      "metadata": {
        "trusted": true
      },
      "cell_type": "code",
      "source": "médiadesenhar=0\nmédiacantar=0\nmédiatocar=0\nmédiadançar=0\nmédiaesporte=0\nmédiaoutros=0",
      "execution_count": null,
      "outputs": []
    },
    {
      "metadata": {
        "trusted": true
      },
      "cell_type": "code",
      "source": "",
      "execution_count": null,
      "outputs": []
    },
    {
      "metadata": {
        "trusted": true
      },
      "cell_type": "code",
      "source": "desenhar=0\ncantar=0\ntocar=0\ndançar=0\nesporte=0\noutros=0\ncont=0",
      "execution_count": null,
      "outputs": []
    },
    {
      "metadata": {
        "trusted": true
      },
      "cell_type": "code",
      "source": "",
      "execution_count": null,
      "outputs": []
    },
    {
      "metadata": {
        "trusted": true
      },
      "cell_type": "code",
      "source": "sala=int(input(\"Quantidade de alunos que tem na sala/escola: \"))",
      "execution_count": null,
      "outputs": []
    },
    {
      "metadata": {
        "trusted": true
      },
      "cell_type": "code",
      "source": "while cont < sala:\n  cont+=1\n  idadeetalentos=[]\n  nome=input(\"Nome do aluno: \")\n  idade=int(input(\"Idade do aluno: \"))\n  talentos=input(\"Talento do aluno \\n (desenhar/cantar/tocar/dançar/esporte/outros): \")\n  alunos[nome]=idadeetalentos\n  idadeetalentos.append(idade)\n  idadeetalentos.append(talentos)\n  idadeetalentos=[]\n  if talentos == \"desenhar\":\n    desenhar+=1\n    idade_desenha.append(idade)\n    somadesenhar+=idade\n    médiadesenhar= somadesenhar/ len(idade_desenha)\n  if talentos == \"cantar\":\n    cantar+=1\n    idade_cantar.append(idade)\n    somacantar+=idade\n    médiacantar= somacantar/ len(idade_cantar)\n  if talentos == \"tocar\":\n    tocar+=1\n    idade_tocar.append(idade)\n    somatocar+=idade\n    médiatocar= somatocar/ len(idade_tocar)\n  if talentos == \"dançar\":\n    dançar+=1\n    idade_dançar.append(idade)\n    somadançar+=idade\n    médiadançar= somadançar/ len(idade_dançar)\n  if talentos == \"esporte\":\n    esporte+=1\n    idade_esporte.append(idade)\n    somaesporte+=idade\n    médiaesporte= somadeesporte/ len(idade_esporte)\n  if talentos == \"outros\":\n    outros+=1\n    idade_outros.append(idade)\n    somaoutros+=idade\n    médiaoutros= somaoutros/ len(idade_outros)\n",
      "execution_count": null,
      "outputs": []
    },
    {
      "metadata": {
        "trusted": true
      },
      "cell_type": "code",
      "source": "print(médiadesenhar)\nprint(desenhar)\nprint(médiacantar)\nprint(cantar)\nprint(médiatocar)\nprint(tocar)\nprint(médiadançar)\nprint(dançar)\nprint(médiaesporte)\nprint(esporte)\nprint(médiaoutros)\nprint(outros)",
      "execution_count": null,
      "outputs": []
    },
    {
      "metadata": {
        "trusted": true
      },
      "cell_type": "code",
      "source": "alunos.bar ",
      "execution_count": null,
      "outputs": []
    }
  ],
  "metadata": {
    "kernelspec": {
      "name": "python36",
      "display_name": "Python 3.6",
      "language": "python"
    },
    "language_info": {
      "mimetype": "text/x-python",
      "nbconvert_exporter": "python",
      "name": "python",
      "pygments_lexer": "ipython3",
      "version": "3.6.6",
      "file_extension": ".py",
      "codemirror_mode": {
        "version": 3,
        "name": "ipython"
      }
    }
  },
  "nbformat": 4,
  "nbformat_minor": 2
}