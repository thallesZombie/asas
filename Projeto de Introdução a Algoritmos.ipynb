{
  "cells": [
    {
      "metadata": {
        "collapsed": true
      },
      "cell_type": "markdown",
      "source": "#  Jovens Talentos"
    },
    {
      "metadata": {},
      "cell_type": "markdown",
      "source": "## Fase 1: Oficina de modelagem de problemas."
    },
    {
      "metadata": {},
      "cell_type": "markdown",
      "source": "Nos tempos atuais temos um grande nível de exigência para com os jovens estudantes, isso inclui os jovens do ensino médio. Porém nem todos os jovens se saem tão bem com as matérias lecionadas no ensino médio, e isso causa um certo desanimo e uma resistência maior em aprender, vimos também que a maioria desses jovens tem algum talento extra disciplinar, como cantar, dançar, praticar algum esporte ou desenhar."
    },
    {
      "metadata": {},
      "cell_type": "markdown",
      "source": "## Fase 2: Fechamento do escopo do problema."
    },
    {
      "metadata": {},
      "cell_type": "markdown",
      "source": "Por meio de algoritmos iremos tentar resolver este problema.\nDurante meu ensino médio tive vários amigos com talentos diferentes e que acabaram desistindo ou continuavam e se saiam muito mal, porém eu via o que eles eram capazes de fazer em outras áreas e penso que acaba sendo um desperdício de talento.\n"
    },
    {
      "metadata": {},
      "cell_type": "markdown",
      "source": "## Fase 3: Identificando formas de solucionar o problema."
    },
    {
      "metadata": {},
      "cell_type": "markdown",
      "source": "Bem, penso que uma forma de solucionar este problema é identificar e registrar cada pessoa e seus talentos com o uso de dicionários e para que o entendimento seja maior por parte do usuário, mostrar os resultados em forma de gráfico ou até mesmo de tabelas."
    },
    {
      "metadata": {},
      "cell_type": "markdown",
      "source": "## Fase 4: Implementação."
    },
    {
      "metadata": {},
      "cell_type": "markdown",
      "source": "\"alunos\" é o dicionário que irá armazenar o nome de cada aluno, a idade e o talento."
    },
    {
      "metadata": {
        "trusted": true
      },
      "cell_type": "code",
      "source": "alunos = {'nome':[] ,'idade':[], 'talentos':[]}",
      "execution_count": 38,
      "outputs": []
    },
    {
      "metadata": {
        "trusted": true
      },
      "cell_type": "markdown",
      "source": "As listas abaixo irão guardar a idade de um aluno que tenha determinado talento, por exemplo, caso um aluno cante, a idade dele será salva na lista \"idade_cantar\" para ser usada no cálculo da média de idades que cada talento tem. "
    },
    {
      "metadata": {
        "trusted": true
      },
      "cell_type": "code",
      "source": "idade_desenha=[]\nidade_cantar=[]\nidade_tocar=[]\nidade_dançar=[]\nidade_esporte=[]\nidade_outros=[]",
      "execution_count": 39,
      "outputs": []
    },
    {
      "metadata": {
        "trusted": true
      },
      "cell_type": "markdown",
      "source": "\nAbaixo criamos variáveis para salvar a soma de idades de cada talento, por exemplo, dois alunos tocam, um deles tem 18 anos e o outro tem 15, a \"somatocar\" vai ser igual a 33.\nCriamos essas variáveis pois caso não fosse especificado aqui o programa não iria realizar a conta de média de idade em talentos que não tivessem nenhum aluno e iria parar de funcionar. \n"
    },
    {
      "metadata": {
        "trusted": true
      },
      "cell_type": "code",
      "source": "somadesenhar=0\nsomacantar=0\nsomatocar=0\nsomadançar=0\nsomaesporte=0\nsomaoutros=0",
      "execution_count": 40,
      "outputs": []
    },
    {
      "metadata": {
        "trusted": true
      },
      "cell_type": "markdown",
      "source": "Abaixo estão as variáveis que irão armazenar a média de idade de cada talento tem."
    },
    {
      "metadata": {
        "trusted": true
      },
      "cell_type": "code",
      "source": "médiadesenhar=0\nmédiacantar=0\nmédiatocar=0\nmédiadançar=0\nmédiaesporte=0\nmédiaoutros=0",
      "execution_count": 41,
      "outputs": []
    },
    {
      "metadata": {
        "trusted": true
      },
      "cell_type": "markdown",
      "source": "Abaixo estão contadores que servirão para nos dizer quantos alunos tem cada um dos talentos."
    },
    {
      "metadata": {
        "trusted": true
      },
      "cell_type": "code",
      "source": "desenhar=0\ncantar=0\ntocar=0\ndançar=0\nesporte=0\noutros=0\ncont=0",
      "execution_count": 42,
      "outputs": []
    },
    {
      "metadata": {
        "trusted": true
      },
      "cell_type": "markdown",
      "source": "Abaixo tem um input que serve para limitar a quantidade de vezes que o programa irá rodar e nos dizer qual a quantidade de alunos na sala/escola."
    },
    {
      "metadata": {
        "trusted": true
      },
      "cell_type": "code",
      "source": "sala=int(input(\"Quantidade de alunos que tem na sala/escola: \"))",
      "execution_count": 43,
      "outputs": [
        {
          "output_type": "stream",
          "name": "stdout",
          "text": "Quantidade de alunos que tem na sala/escola: 3\n"
        }
      ]
    },
    {
      "metadata": {},
      "cell_type": "markdown",
      "source": "Utilizamos \"while\" para que o usuário possa determinar a quantidade de vezes que o programa irá rodar através da variável sala irá receber. \n\nCriamos três tipos de variáveis interativas que irão receber três de dado (nome/idade/talento). \nQue em seguida será guardado no dicionário utilizando o \".append\" com as variáveis interativas \nAssim que for armazenados eles irão verificar nos “IF” se a palavras colocada na variável \"talentos\" se for compatível com algum \"IF\", irar contar mais 1 na variável de cada talento especifico.\n A variável idade_\"talento\" irar acrescentar o elemento idade em uma lista.\n A soma\"talento\" vai ser um somador que irá somar a idade dos alunos e a media\"talento\" vai pegar o total da soma\"talento\" e dividir quantidade de elementos em idade_\"talentos” que descobrimos usando a função “len” em idade_”talento”.\n"
    },
    {
      "metadata": {
        "trusted": true
      },
      "cell_type": "code",
      "source": "while cont < sala:\n    cont+=1\n    nome=input(\"\\nNome do aluno(a)): \")\n    idade=int(input(\"Idade do aluno(a): \"))\n    talentos=input(\"Talento do aluno \\n (desenhar/cantar/tocar/dançar/esporte/outros): \")\n    alunos['nome'].append(nome)\n    alunos['idade'].append(idade)\n    alunos['talentos'].append(talentos)\n    if talentos == \"desenhar\":\n        desenhar+=1\n        idade_desenha.append(idade)\n        somadesenhar+=idade\n        médiadesenhar= somadesenhar/ len(idade_desenha)\n    if talentos == \"cantar\":\n        cantar+=1\n        idade_cantar.append(idade)\n        somacantar+=idade\n        médiacantar= somacantar/ len(idade_cantar)\n    \n    if talentos == \"tocar\":\n        tocar+=1\n        idade_tocar.append(idade)\n        somatocar+=idade\n        médiatocar= somatocar/ len(idade_tocar)\n    \n    if talentos == \"dançar\":\n        dançar+=1\n        idade_dançar.append(idade)\n        somadançar+=idade\n        médiadançar= somadançar/ len(idade_dançar)\n    \n    if talentos == \"esporte\":\n        esporte+=1\n        idade_esporte.append(idade)\n        somaesporte+=idade\n        médiaesporte= somaesporte/ len(idade_esporte)\n    \n    if talentos == \"outros\":\n        outros+=1\n        idade_outros.append(idade)\n        somaoutros+=idade\n        médiaoutros= somaoutros/ len(idade_outros)\n    \n",
      "execution_count": 44,
      "outputs": [
        {
          "output_type": "stream",
          "name": "stdout",
          "text": "\nNome do aluno(a)): a\nIdade do aluno(a): 19\nTalento do aluno \n (desenhar/cantar/tocar/dançar/esporte/outros): tocar\n\nNome do aluno(a)): b\nIdade do aluno(a): 16\nTalento do aluno \n (desenhar/cantar/tocar/dançar/esporte/outros): cantar\n\nNome do aluno(a)): 13\nIdade do aluno(a): 14\nTalento do aluno \n (desenhar/cantar/tocar/dançar/esporte/outros): tocar\n"
        }
      ]
    },
    {
      "metadata": {
        "trusted": true
      },
      "cell_type": "markdown",
      "source": "Abaixo está o código que faz os gráficos de média de idade por talento dos alunos.\nNumPy é um pacote para a linguagem Python que suporta arrays e matrizes multidimensionais, possuindo uma larga coleção de funções matemáticas para trabalhar com estas estruturas.\n"
    },
    {
      "metadata": {},
      "cell_type": "markdown",
      "source": "Foi feito um import da ferramenta numpy\nfoi feita duas variaveis uma para receber as escritas com nomes como o nome de \"talen\", e  outra para receber a das media de talentos chamada de \"media\"."
    },
    {
      "metadata": {},
      "cell_type": "markdown",
      "source": "escolhemos um grafico do tipo barrar e fizemos um \"plt.bar\" dentro dele colocamos as variaveis talen,media e cor recebendo a cor vermelha para ser apresentada nas barras."
    },
    {
      "metadata": {},
      "cell_type": "markdown",
      "source": "no plt.xticks foi colocado a variavel talen que vai representar os elementos dessa lista\n\nplt.ylabel vai receber a escrita \"media de idades\"\n\ne plt.title é o titulo que colocamos a escrita ('talentos e medias por idades')\n\ne é apresentado com plt.show ()"
    },
    {
      "metadata": {
        "trusted": true,
        "scrolled": true
      },
      "cell_type": "code",
      "source": "import numpy as np\n\ntalen=[\"desenhar\",\"cantar\",\"tocar\",\"dançar\",\"esporte\",\"outros\"]\nmedia=(médiadesenhar,médiacantar,médiatocar,médiadançar,médiaesporte,médiaoutros)\n\nplt.bar(talen, media, color=\"red\")\n\nplt.xticks(talen)\n\nplt.ylabel(\"media de idades\")\n\nplt.title('Talentos e medias por idades')\n\nplt.show()",
      "execution_count": 61,
      "outputs": [
        {
          "output_type": "display_data",
          "data": {
            "image/png": "[encoded data removed]",
            "text/plain": "<Figure size 432x288 with 1 Axes>"
          },
          "metadata": {
            "needs_background": "light"
          }
        }
      ]
    },
    {
      "metadata": {},
      "cell_type": "markdown",
      "source": "Abaixo temos o código que faz a tabela que mostra o nome, idade e talento de cada um dos alunos.\nPandas é uma biblioteca de software em python que serve para manipular e analisar dados.\n"
    },
    {
      "metadata": {},
      "cell_type": "markdown",
      "source": "foi feito import do pandas e uma variavel \"df\" que vai receber o PD em DataFrame que vai receber o dicionario \"alunos\""
    },
    {
      "metadata": {
        "trusted": true,
        "scrolled": true
      },
      "cell_type": "code",
      "source": "import pandas as pd  \n\ndf=pd.DataFrame(data=alunos)\ndf",
      "execution_count": 62,
      "outputs": [
        {
          "output_type": "execute_result",
          "execution_count": 62,
          "data": {
            "text/html": "<div>\n<style scoped>\n    .dataframe tbody tr th:only-of-type {\n        vertical-align: middle;\n    }\n\n    .dataframe tbody tr th {\n        vertical-align: top;\n    }\n\n    .dataframe thead th {\n        text-align: right;\n    }\n</style>\n<table border=\"1\" class=\"dataframe\">\n  <thead>\n    <tr style=\"text-align: right;\">\n      <th></th>\n      <th>nome</th>\n      <th>idade</th>\n      <th>talentos</th>\n    </tr>\n  </thead>\n  <tbody>\n    <tr>\n      <th>0</th>\n      <td>a</td>\n      <td>19</td>\n      <td>tocar</td>\n    </tr>\n    <tr>\n      <th>1</th>\n      <td>b</td>\n      <td>16</td>\n      <td>cantar</td>\n    </tr>\n    <tr>\n      <th>2</th>\n      <td>13</td>\n      <td>14</td>\n      <td>tocar</td>\n    </tr>\n  </tbody>\n</table>\n</div>",
            "text/plain": "  nome  idade talentos\n0    a     19    tocar\n1    b     16   cantar\n2   13     14    tocar"
          },
          "metadata": {}
        }
      ]
    },
    {
      "metadata": {
        "trusted": true
      },
      "cell_type": "code",
      "source": "médiacantar\n",
      "execution_count": 48,
      "outputs": [
        {
          "output_type": "execute_result",
          "execution_count": 48,
          "data": {
            "text/plain": "16.0"
          },
          "metadata": {}
        }
      ]
    },
    {
      "metadata": {
        "trusted": true
      },
      "cell_type": "code",
      "source": "",
      "execution_count": null,
      "outputs": []
    }
  ],
  "metadata": {
    "kernelspec": {
      "name": "python36",
      "display_name": "Python 3.6",
      "language": "python"
    },
    "language_info": {
      "mimetype": "text/x-python",
      "nbconvert_exporter": "python",
      "name": "python",
      "pygments_lexer": "ipython3",
      "version": "3.6.6",
      "file_extension": ".py",
      "codemirror_mode": {
        "version": 3,
        "name": "ipython"
      }
    }
  },
  "nbformat": 4,
  "nbformat_minor": 2
}